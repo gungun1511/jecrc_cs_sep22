{
 "cells": [
  {
   "cell_type": "code",
   "execution_count": null,
   "id": "cfb8e53d-23a5-4b07-9283-38769a969c3e",
   "metadata": {},
   "outputs": [],
   "source": []
  }
 ],
 "metadata": {
  "kernelspec": {
   "display_name": "Python 3.10.7 64-bit",
   "language": "python",
   "name": "python3"
  },
  "language_info": {
   "codemirror_mode": {
    "name": "ipython",
    "version": 3
   },
   "file_extension": ".py",
   "mimetype": "text/x-python",
   "name": "python",
   "nbconvert_exporter": "python",
   "pygments_lexer": "ipython3",
   "version": "3.10.7"
  },
  "vscode": {
   "interpreter": {
    "hash": "c8e8e4fba085320439361d7e414a74ed696bd8987cdddb8529d477ed1ddb9b4d"
   }
  }
 },
 "nbformat": 4,
 "nbformat_minor": 5
}
